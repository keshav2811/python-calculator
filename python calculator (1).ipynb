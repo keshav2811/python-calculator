{
 "cells": [
  {
   "cell_type": "code",
   "execution_count": null,
   "id": "6308b85a",
   "metadata": {},
   "outputs": [],
   "source": [
    "num1 = float(input(\"enter the number:\"))\n",
    "num2 = float(input(\"enter the number:\"))\n",
    "operator = input(\"enter your operator:\")\n",
    "if operator== (\"+\") :\n",
    "    print(num1+num2)\n",
    "elif operator== (\"-\"):\n",
    "    print(num1-num2)\n",
    "elif operator== (\"*\"):\n",
    "    print(num1*num2)\n",
    "elif operator== (\"/\"):\n",
    "    print(num1/num2)\n",
    "elif operator== (\"%\"):\n",
    "    print(num1%num2)\n",
    "elif operator== (\"**\"):\n",
    "    print(num1**num2)\n",
    "elif operator== (\"//\"):\n",
    "    print(num1//num2)\n",
    "else:\n",
    "    print(\"invalid operator\")"
   ]
  }
 ],
 "metadata": {
  "kernelspec": {
   "display_name": "Python 3 (ipykernel)",
   "language": "python",
   "name": "python3"
  },
  "language_info": {
   "codemirror_mode": {
    "name": "ipython",
    "version": 3
   },
   "file_extension": ".py",
   "mimetype": "text/x-python",
   "name": "python",
   "nbconvert_exporter": "python",
   "pygments_lexer": "ipython3",
   "version": "3.9.7"
  }
 },
 "nbformat": 4,
 "nbformat_minor": 5
}
